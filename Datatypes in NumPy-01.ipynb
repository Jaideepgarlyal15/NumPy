{
 "cells": [
  {
   "cell_type": "markdown",
   "id": "d695635f",
   "metadata": {},
   "source": [
    "# Data Types in Python and Numpy\n",
    "Effective data-driven computation requires us to have a deep understanding of how data is stored and manipulated. This notebook covers outlines and contrasts on how arrays of data are handled in the Python itself, and how NumPy improves this. We are going to understand much of this throughout the numpy module, but right now, let's stress a little on the\n",
    "\n",
    "Unlike statically typed language, python gives us the flexiblity of auto setting the value of variables in the code rather than typing the exact data-type of the same. This could be considered as one of the reasons why python is slower as compared to a compile type and statically typed language. Let's try to understand this using a simple code comparision with c.\n",
    "\n",
    "/* C code */\n",
    "int sum = 0;\n",
    "for(int i=0; i<100; i++){\n",
    "    sum += i;\n",
    "}\n",
    "This exact piece of code, when written in python, is as follows:\n",
    "\n",
    " #python\n",
    " result = 0\n",
    " for i in range(100):\n",
    "     result += i\n",
    "Looks neat, isn't it? This code is more easily readable than the c code as we don't have to explicitly mention the datatypes we are working with and we can also change them easily whenever required."
   ]
  },
  {
   "cell_type": "code",
   "execution_count": 1,
   "id": "aeca5524",
   "metadata": {},
   "outputs": [
    {
     "data": {
      "text/plain": [
       "[str, int, float, bool]"
      ]
     },
     "execution_count": 1,
     "metadata": {},
     "output_type": "execute_result"
    }
   ],
   "source": [
    "list = [\"2\", 2, 2., True]\n",
    "[type(item) for item in list]"
   ]
  },
  {
   "cell_type": "markdown",
   "id": "fe14b638",
   "metadata": {},
   "source": [
    "**so we can see the single python list contains of multiple data-types.**"
   ]
  },
  {
   "cell_type": "code",
   "execution_count": 2,
   "id": "5d814f3b",
   "metadata": {},
   "outputs": [],
   "source": [
    "import numpy as np\n"
   ]
  },
  {
   "cell_type": "code",
   "execution_count": 3,
   "id": "1ed25a6b",
   "metadata": {},
   "outputs": [
    {
     "data": {
      "text/plain": [
       "array([3, 1, 4, 1, 5, 9, 6, 2, 5])"
      ]
     },
     "execution_count": 3,
     "metadata": {},
     "output_type": "execute_result"
    }
   ],
   "source": [
    "# integer array:\n",
    "a = np.array([3, 1, 4, 1, 5, 9, 6, 2, 5])\n",
    "a"
   ]
  },
  {
   "cell_type": "code",
   "execution_count": 4,
   "id": "ba61dfe1",
   "metadata": {},
   "outputs": [
    {
     "data": {
      "text/plain": [
       "dtype('int64')"
      ]
     },
     "execution_count": 4,
     "metadata": {},
     "output_type": "execute_result"
    }
   ],
   "source": [
    "a.dtype"
   ]
  },
  {
   "cell_type": "code",
   "execution_count": 6,
   "id": "4f2d9f85",
   "metadata": {},
   "outputs": [
    {
     "data": {
      "text/plain": [
       "array([3.14, 1.  , 5.  , 9.  , 6.  , 2.  , 5.  ])"
      ]
     },
     "execution_count": 6,
     "metadata": {},
     "output_type": "execute_result"
    }
   ],
   "source": [
    "a = np.array([3.14, 1, 5, 9, 6, 2, 5])\n",
    "a"
   ]
  },
  {
   "cell_type": "code",
   "execution_count": 7,
   "id": "81acc7a4",
   "metadata": {},
   "outputs": [
    {
     "data": {
      "text/plain": [
       "dtype('float64')"
      ]
     },
     "execution_count": 7,
     "metadata": {},
     "output_type": "execute_result"
    }
   ],
   "source": [
    "a.dtype"
   ]
  },
  {
   "cell_type": "code",
   "execution_count": 8,
   "id": "3a89064d",
   "metadata": {},
   "outputs": [
    {
     "data": {
      "text/plain": [
       "dtype('<U32')"
      ]
     },
     "execution_count": 8,
     "metadata": {},
     "output_type": "execute_result"
    }
   ],
   "source": [
    "a = np.array([3.14, \"1\", 5, 9, 6, 2, 5])\n",
    "a; a.dtype"
   ]
  },
  {
   "cell_type": "markdown",
   "id": "f705c1ef",
   "metadata": {},
   "source": [
    "# What do we see? \n",
    "We can clearly see that whenever there are different data-types in a numpy array, rather than giving a mixed set of dtypes, it gives one singular datatype.\n",
    "\n"
   ]
  },
  {
   "cell_type": "markdown",
   "id": "279c0ade",
   "metadata": {},
   "source": [
    "**Finally, unlike Python lists, NumPy arrays can explicitly be multi-dimensional; here's one way of initializing a multidimensional array using a list of lists**\n"
   ]
  },
  {
   "cell_type": "code",
   "execution_count": 9,
   "id": "5c924f7e",
   "metadata": {},
   "outputs": [
    {
     "data": {
      "text/plain": [
       "array([[3, 4, 5],\n",
       "       [1, 2, 3],\n",
       "       [4, 5, 6]])"
      ]
     },
     "execution_count": 9,
     "metadata": {},
     "output_type": "execute_result"
    }
   ],
   "source": [
    "# nested lists result in multi-dimensional arrays\n",
    "np.array([range(i, i + 3) for i in [3, 1, 4]])"
   ]
  },
  {
   "cell_type": "code",
   "execution_count": null,
   "id": "40ed4ce4",
   "metadata": {},
   "outputs": [],
   "source": []
  }
 ],
 "metadata": {
  "kernelspec": {
   "display_name": "Python 3 (ipykernel)",
   "language": "python",
   "name": "python3"
  },
  "language_info": {
   "codemirror_mode": {
    "name": "ipython",
    "version": 3
   },
   "file_extension": ".py",
   "mimetype": "text/x-python",
   "name": "python",
   "nbconvert_exporter": "python",
   "pygments_lexer": "ipython3",
   "version": "3.9.7"
  }
 },
 "nbformat": 4,
 "nbformat_minor": 5
}
